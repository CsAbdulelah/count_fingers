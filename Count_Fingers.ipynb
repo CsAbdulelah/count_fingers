{
 "cells": [
  {
   "cell_type": "markdown",
   "metadata": {},
   "source": [
    "# Count number of finguers using opencv "
   ]
  },
  {
   "cell_type": "markdown",
   "metadata": {},
   "source": [
    "<div class=\"alert alert-block alert-success\">\n",
    "How counting fingures works?\n",
    "   <br> \n",
    "    \n",
    "1. Grap ROI\n",
    "      <br> \n",
    "2. Calculate average background value for 60 frames\n",
    "      <br> \n",
    "3. Detect change in bacground\n",
    "      <br> \n",
    "4. Once we detect the hand we will use Convex Hull algorthim \n",
    "      <br> \n",
    "5. Calculate center of the hand \n",
    "      <br> \n",
    "6. Calculate the angle of outer points to count fingure \n",
    "      <br> \n",
    "</div>\n",
    "\n"
   ]
  },
  {
   "cell_type": "markdown",
   "metadata": {},
   "source": [
    "### Import Libraries "
   ]
  },
  {
   "cell_type": "code",
   "execution_count": 1,
   "metadata": {},
   "outputs": [],
   "source": [
    "import cv2\n",
    "import numpy as np\n",
    "\n",
    "from sklearn.metrics import pairwise"
   ]
  },
  {
   "cell_type": "markdown",
   "metadata": {},
   "source": [
    "## Global Variables And Check Background \n",
    "\n",
    "- Define some global variables\n",
    "- Creat function to calculate the average of the background values in ROI"
   ]
  },
  {
   "cell_type": "code",
   "execution_count": 2,
   "metadata": {},
   "outputs": [],
   "source": [
    "# To updated when we calculate the avrage\n",
    "backgorund = None\n",
    "\n",
    "accumulated_weight = 0.5\n",
    "\n",
    "# Calculating where the roi location\n",
    "roi_top = 20\n",
    "roi_bottom = 270\n",
    "roi_right = 270\n",
    "roi_left = 550"
   ]
  },
  {
   "cell_type": "code",
   "execution_count": 3,
   "metadata": {},
   "outputs": [],
   "source": [
    "def calc_accum_avg(frame,accumulated_weight):\n",
    "    \n",
    "    global backgorund\n",
    "    \n",
    "    if backgorund is None:\n",
    "        backgorund = frame.copy().astype('float')\n",
    "        return None\n",
    "    # The function calculates the weighted sum of the input image src\n",
    "    # and the accumulator dst so that dst\n",
    "    cv2.accumulateWeighted(frame,backgorund,accumulated_weight)"
   ]
  },
  {
   "cell_type": "markdown",
   "metadata": {},
   "source": [
    "## Segmentation\n",
    "` Useing thresholding to grab hand segment`\n"
   ]
  },
  {
   "cell_type": "code",
   "execution_count": 4,
   "metadata": {},
   "outputs": [],
   "source": [
    "def segment(frame,threshold_min = 25):\n",
    "    \n",
    "    global backgorund\n",
    "    \n",
    "    # Calculate diffrance between bacground and the frame\n",
    "    diff = cv2.absdiff(backgorund.astype('uint8'),frame)\n",
    "    \n",
    "    # Applying threshold on diff image\n",
    "    _, thresholded = cv2.threshold(diff,threshold_min,255,cv2.THRESH_BINARY)\n",
    "    \n",
    "    # Find  external contours in thresholded image \n",
    "    image, contours, hierarchy = cv2.findContours(thresholded.copy(),cv2.RETR_EXTERNAL,cv2.CHAIN_APPROX_SIMPLE)\n",
    "    \n",
    "    # Check if we grab contours or not?\n",
    "    if len(contours) == 0:\n",
    "        return None\n",
    "    \n",
    "    # If we grab contour we will assume that the max external contour is the hand\n",
    "    else:\n",
    "        \n",
    "        hand_segment = max(contours, key=cv2.contourArea)\n",
    "        \n",
    "        return (thresholded, hand_segment)"
   ]
  },
  {
   "cell_type": "markdown",
   "metadata": {},
   "source": [
    "## Counting Finguers And ConvexHull Algorthim\n",
    "\n",
    "\n",
    "Computing the convex hull means that a non-ambiguous and efficient representation of the required convex shape is constructed.\n",
    "(https://en.wikipedia.org/wiki/Convex_hull_algorithms)\n",
    "\n",
    "<img src=\"hand_convex.png\">\n",
    "\n",
    "\n",
    "<br>\n",
    "- Calculate the extreme top, bottom, left, and right points \n",
    "<br>\n",
    "- After that, calculate thier intersection and consider that as center of the hand\n",
    "<br>\n",
    "- Calculate the distance for the farest point from the center\n",
    "<br>\n",
    "- Then, using this distance and take 80-90% ratio to create circle"
   ]
  },
  {
   "cell_type": "code",
   "execution_count": 5,
   "metadata": {},
   "outputs": [],
   "source": [
    "def count_fingers(thresholded, hand_segment):\n",
    "    \n",
    "    convex_hull = cv2.convexHull(hand_segment)\n",
    "    \n",
    "    # Grab the exterem points\n",
    "    top    = tuple(convex_hull[convex_hull[:, :, 1].argmin()][0])\n",
    "    bottom = tuple(convex_hull[convex_hull[:, :, 1].argmax()][0])\n",
    "    left   = tuple(convex_hull[convex_hull[:, :, 0].argmin()][0])\n",
    "    right  = tuple(convex_hull[convex_hull[:, :, 0].argmax()][0])\n",
    "    \n",
    "    # The center point of hand ( half way from  top and bottom And half way from left and right)\n",
    "    cX = (left[0] + right[0]) // 2\n",
    "    cY = (top[1] + bottom[1]) // 2\n",
    "    \n",
    "    # Calculate the distance between points and centers\n",
    "    distance = pairwise.euclidean_distances([(cX, cY)], Y=[left, right, top, bottom])[0]\n",
    "    \n",
    "    # Grab the farest point from the center\n",
    "    max_distance = distance.max()\n",
    "    \n",
    "    # Create a circle with 80% radius size of the max distance\n",
    "    radius = int(0.9 * max_distance)\n",
    "    circumference = (2*np.pi*radius)\n",
    "    \n",
    "     #  ROI of only that circle\n",
    "    circular_roi = np.zeros(thresholded.shape[:2],dtype='uint8')\n",
    "    \n",
    "    cv2.circle(circular_roi,(cX, cY), radius, 255, 10)\n",
    "    \n",
    "    circular_roi = cv2.bitwise_and(thresholded,thresholded,mask=circular_roi)\n",
    "    \n",
    "    \n",
    "    image, contours, hierarchy = cv2.findContours(circular_roi.copy(),cv2.RETR_EXTERNAL,cv2.CHAIN_APPROX_NONE)\n",
    "    \n",
    "    count = 0\n",
    "    \n",
    "    for cnt in contours:\n",
    "        \n",
    "        # Grab each contour points and bounding rectangle for each of contour\n",
    "        (x, y, w, h) = cv2.boundingRect(cnt)\n",
    "        \n",
    "        # If the contour is not very bottom or (is not wrist ) more than (center + center*0.25)\n",
    "        out_of_wrist = ((cY + (cY * 0.25)) > (y + h))\n",
    "        \n",
    "        #  Number of points along the contour does not exceed 25% of the circumference of the circular ROI (otherwise we're counting points of\n",
    "        limit_points = ((circumference * 0.25) > cnt.shape[0])\n",
    "        \n",
    "        if  out_of_wrist and limit_points:\n",
    "            count += 1\n",
    "            \n",
    "    return count"
   ]
  },
  {
   "cell_type": "markdown",
   "metadata": {},
   "source": [
    "## Read Vedio From CAM"
   ]
  },
  {
   "cell_type": "code",
   "execution_count": 6,
   "metadata": {},
   "outputs": [],
   "source": [
    "cam = cv2.VideoCapture(0)\n",
    "\n",
    "# Intialize a frame count\n",
    "num_frames = 0\n",
    "\n",
    "while True:\n",
    "    \n",
    "    # Read the frames\n",
    "    ret, frame = cam.read()\n",
    "    \n",
    "    # Just for flip the frame\n",
    "    frame = cv2.flip(frame, 1)\n",
    "    \n",
    "    # Making a copy to play with\n",
    "    frame_copy = frame.copy()\n",
    "    \n",
    "    # Grap the region of interest we detemined it previously \n",
    "    roi = frame[roi_top:roi_bottom, roi_right:roi_left]\n",
    "    \n",
    "    # Change color of roi and Bluer the image\n",
    "    gray = cv2.cvtColor(roi,cv2.COLOR_BGR2GRAY)\n",
    "    gray = cv2.GaussianBlur(gray,(7,7),0)\n",
    "    \n",
    "    if num_frames < 60:\n",
    "        # After 60 frame calculate background average \n",
    "        calc_accum_avg(gray,accumulated_weight)\n",
    "        \n",
    "        # before reach frame number 60 show this text on screen\n",
    "        if num_frames <=59:\n",
    "            cv2.putText(frame_copy, 'WAIT UNTIL CALCULATE BACKGROUND', (100,150),cv2.FONT_HERSHEY_COMPLEX_SMALL, 1, (0,0,255), 2)\n",
    "            cv2.imshow(\"Finger Count\",frame_copy)\n",
    "    else:\n",
    "        \n",
    "        hand = segment(gray)\n",
    "        \n",
    "        if hand is not None:\n",
    "            \n",
    "            thresholded, hand_segment = hand\n",
    "            \n",
    "            # Draw contours around hand in real time\n",
    "            cv2.drawContours(frame_copy, [hand_segment + (roi_right, roi_top)], -1, (255,0,0), 5)\n",
    "            \n",
    "            # Count the fingers\n",
    "            fingers = count_fingers(thresholded, hand_segment)\n",
    "\n",
    "            # Display count\n",
    "            cv2.putText(frame_copy, str(fingers), (70, 45), cv2.FONT_HERSHEY_SIMPLEX, 1, (0,0,255), 2)\n",
    "\n",
    "            # Also display the thresholded image\n",
    "            cv2.imshow(\"Thesholded\", thresholded)\n",
    "     \n",
    "    # Draw rectangle on the roi \n",
    "    cv2.rectangle(frame_copy, (roi_left, roi_top), (roi_right, roi_bottom), (0,0,255), 5)\n",
    "    \n",
    "    # Incerment number of frame\n",
    "    num_frames +=1\n",
    "    \n",
    "    # Display the frame\n",
    "    cv2.imshow('Fingure count', frame_copy)\n",
    "    \n",
    "    # Close windows with Esc\n",
    "    k = cv2.waitKey(1) & 0xFF\n",
    "\n",
    "    if k == 27:\n",
    "        break\n",
    "\n",
    "# Release the camera and destroy all the windows\n",
    "cam.release()\n",
    "cv2.destroyAllWindows()\n",
    "    "
   ]
  },
  {
   "cell_type": "code",
   "execution_count": null,
   "metadata": {},
   "outputs": [],
   "source": []
  },
  {
   "cell_type": "code",
   "execution_count": null,
   "metadata": {},
   "outputs": [],
   "source": []
  }
 ],
 "metadata": {
  "kernelspec": {
   "display_name": "Python 3",
   "language": "python",
   "name": "python3"
  },
  "language_info": {
   "codemirror_mode": {
    "name": "ipython",
    "version": 3
   },
   "file_extension": ".py",
   "mimetype": "text/x-python",
   "name": "python",
   "nbconvert_exporter": "python",
   "pygments_lexer": "ipython3",
   "version": "3.7.7"
  }
 },
 "nbformat": 4,
 "nbformat_minor": 4
}
